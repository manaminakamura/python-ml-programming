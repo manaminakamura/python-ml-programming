{
 "cells": [
  {
   "cell_type": "code",
   "execution_count": 1,
   "metadata": {},
   "outputs": [
    {
     "ename": "ImportError",
     "evalue": "No module named numpy",
     "output_type": "error",
     "traceback": [
      "\u001b[0;31m---------------------------------------------------------------------------\u001b[0m",
      "\u001b[0;31mImportError\u001b[0m                               Traceback (most recent call last)",
      "\u001b[0;32m<ipython-input-1-1fd33bf5252a>\u001b[0m in \u001b[0;36m<module>\u001b[0;34m()\u001b[0m\n\u001b[0;32m----> 1\u001b[0;31m \u001b[0;32mimport\u001b[0m \u001b[0mnumpy\u001b[0m \u001b[0;32mas\u001b[0m \u001b[0mnp\u001b[0m\u001b[0;34m\u001b[0m\u001b[0m\n\u001b[0m\u001b[1;32m      2\u001b[0m \u001b[0;34m\u001b[0m\u001b[0m\n\u001b[1;32m      3\u001b[0m \u001b[0;32mclass\u001b[0m \u001b[0mPerceptron\u001b[0m\u001b[0;34m(\u001b[0m\u001b[0mobject\u001b[0m\u001b[0;34m)\u001b[0m \u001b[0;34m:\u001b[0m\u001b[0;34m\u001b[0m\u001b[0m\n\u001b[1;32m      4\u001b[0m     \"\"\"パーセプトロンの分類器\n\u001b[1;32m      5\u001b[0m     \u001b[0;31mパ\u001b[0m\u001b[0;31mラ\u001b[0m\u001b[0;31mメ\u001b[0m\u001b[0;31mー\u001b[0m\u001b[0;31mタ\u001b[0m\u001b[0;34m\u001b[0m\u001b[0m\n",
      "\u001b[0;31mImportError\u001b[0m: No module named numpy"
     ]
    }
   ],
   "source": [
    "import numpy as np\n",
    "\n",
    "class Perceptron(object) :\n",
    "    \"\"\"パーセプトロンの分類器\n",
    "    パラメータ\n",
    "    ------------\n",
    "    eta: float\n",
    "        学習率（0.0~1.0）\n",
    "    n_iter : int\n",
    "        トレーニングデータのトレーニング回数\n",
    "        \n",
    "    属性\n",
    "    -----------\n",
    "    w_ : 1次元配列\n",
    "        適合後の重み\n",
    "    errors_ : リスト\n",
    "        各エポックでの誤分類数\n",
    "    \"\"\"\n",
    "    \n",
    "    def __init__(self, eta=0.01, n_iter=10) :\n",
    "        self.eta = eta\n",
    "        self.n_iter = n_iter\n",
    "        \n",
    "    def fit(self, X, y) :\n",
    "        \"\"\"トレーニングデータに適合させる（重みの更新）\n",
    "        パラメータ\n",
    "        -------------\n",
    "        X : {配列のようなデータ構造}, shape = [n_samples, n_features]\n",
    "        　　　　トレーニングデータ\n",
    "        y :  {配列のようなデータ構造}, shape = [n_samples]\n",
    "            目的変数\n",
    "            \n",
    "        戻り値\n",
    "        -------------\n",
    "        self : object\n",
    "        \"\"\"\n",
    "        self.w_ = np.zeros(1 + X.shape[1]) #トレーニングデータの特徴量+1のサイズで初期化\n",
    "        self.errors_ = []\n",
    "        \n",
    "        for _ in range(self.n_iter) : # トレーニング回数分トレーニングデータを反復\n",
    "            errors = 0\n",
    "            for xi, target in zip(X, y) : # 各サンプルで重みを更新\n",
    "                # 重みw1, ... , wm の更新\n",
    "                # Δ wj = η( y( i)- y( i)) xj( i) ( j = 1, .. , m)\n",
    "                update = self.eta * (target - self.predict(xi))\n",
    "                self.w_[1:] += update * xi\n",
    "                # 重み w 0 の 更新： Δ w 0 = η( y( i)- y( i))\n",
    "                self.w_[0] += update\n",
    "                # 重みの更新が0でない場合は誤分類としてカウント\n",
    "                errors += int(update != 0.0)\n",
    "            # 反復回数ごとの誤差を格納\n",
    "            self.errors_.append(errors)\n",
    "        return self\n",
    "    \n",
    "    def net_input(self, X) :\n",
    "        \"\"\"総入力を計算\"\"\"\n",
    "        return np.dot(X, self.w_[1:]) + self.w_[0]\n",
    "    \n",
    "    def predict(self, X) :\n",
    "        \"\"\"1ステップ後のクラスラベルを返す\"\"\"\n",
    "        return np.where(self.net_input(X) >= 0.0, 1, -1)"
   ]
  },
  {
   "cell_type": "code",
   "execution_count": null,
   "metadata": {},
   "outputs": [],
   "source": []
  }
 ],
 "metadata": {
  "kernelspec": {
   "display_name": "Python 2",
   "language": "python",
   "name": "python2"
  },
  "language_info": {
   "codemirror_mode": {
    "name": "ipython",
    "version": 2
   },
   "file_extension": ".py",
   "mimetype": "text/x-python",
   "name": "python",
   "nbconvert_exporter": "python",
   "pygments_lexer": "ipython2",
   "version": "2.7.14"
  }
 },
 "nbformat": 4,
 "nbformat_minor": 2
}
